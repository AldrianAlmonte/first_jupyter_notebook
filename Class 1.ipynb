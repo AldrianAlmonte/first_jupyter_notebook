{
 "cells": [
  {
   "cell_type": "code",
   "execution_count": 3,
   "id": "32379c33",
   "metadata": {},
   "outputs": [
    {
     "name": "stdout",
     "output_type": "stream",
     "text": [
      "h\n",
      "e\n",
      "l\n",
      "l\n",
      "o\n",
      ",\n",
      " \n",
      "w\n",
      "o\n",
      "r\n",
      "l\n",
      "d\n"
     ]
    }
   ],
   "source": [
    "for letter in \"hello, world\":\n",
    "    print(letter)"
   ]
  },
  {
   "cell_type": "markdown",
   "id": "ebbd05f3",
   "metadata": {},
   "source": [
    "# Problem 1 \n",
    "\n",
    "### Given two strings (string_a and string_b) determine if they are anagrams of each other given the following criteria\n",
    "\n",
    "> Two strings are only anagrams of each other if all conditions below are met:\n",
    "> * They must be exactly the same length\n",
    "> * They must use excactly the same characters (no more, no less)\n",
    "\n",
    "`Examples: cars and scar, heart and earth, ect.`\n",
    "\n",
    "## Instructions\n",
    "Create a function called \"anagram_check that returns true if the two parameters (both strings) submitted are anagrams of each other and false otherwise."
   ]
  },
  {
   "cell_type": "code",
   "execution_count": 9,
   "id": "0e71e3d3",
   "metadata": {},
   "outputs": [],
   "source": [
    "#avoid this solution:\n",
    "def anagram_check(str1, str2):\n",
    "    return sorted(str1) == sorted(str2)"
   ]
  },
  {
   "cell_type": "code",
   "execution_count": 10,
   "id": "0ab84280",
   "metadata": {},
   "outputs": [
    {
     "data": {
      "text/plain": [
       "True"
      ]
     },
     "execution_count": 10,
     "metadata": {},
     "output_type": "execute_result"
    }
   ],
   "source": [
    "anagram_check(\"heart\", \"earth\")"
   ]
  },
  {
   "cell_type": "code",
   "execution_count": 11,
   "id": "84cf466b",
   "metadata": {},
   "outputs": [],
   "source": [
    "# if str1.length == str2.length return true else false"
   ]
  },
  {
   "cell_type": "code",
   "execution_count": 18,
   "id": "342b8dd1",
   "metadata": {},
   "outputs": [],
   "source": [
    "def anagram_checker(str1, str2):\n",
    "    str1 = (str1.lower()).replace(\" \",\"\")\n",
    "    str2 = (str2.lower()).replace(\" \",\"\")\n",
    "    if (len(str1) != len(str2)):\n",
    "        return False\n",
    "    char_times_a = dict()\n",
    "    char_times_b = dict()\n",
    "    for i in range(len(str1)):\n",
    "        if str1[i] not in char_times_a.keys():\n",
    "            char_times_a[str1[i]] = 1\n",
    "        else:\n",
    "            char_times_a[str1[i]] += 1\n",
    "        if str2[i] not in char_times_b.keys():\n",
    "            char_times_b[str2[i]] = 1\n",
    "        else:\n",
    "            char_times_b[str2[i]] += 1\n",
    "    return char_times_a == char_times_b"
   ]
  },
  {
   "cell_type": "code",
   "execution_count": 19,
   "id": "19ce8805",
   "metadata": {},
   "outputs": [
    {
     "data": {
      "text/plain": [
       "True"
      ]
     },
     "execution_count": 19,
     "metadata": {},
     "output_type": "execute_result"
    }
   ],
   "source": [
    "anagram_checker(\"heart\", \"earth\")"
   ]
  },
  {
   "cell_type": "code",
   "execution_count": 20,
   "id": "aabe36b3",
   "metadata": {},
   "outputs": [],
   "source": [
    "# \"I am Lord Voldemort\" is an anagram \"Tom Marvolo Riddle\""
   ]
  },
  {
   "cell_type": "code",
   "execution_count": 21,
   "id": "e5983e32",
   "metadata": {},
   "outputs": [
    {
     "data": {
      "text/plain": [
       "False"
      ]
     },
     "execution_count": 21,
     "metadata": {},
     "output_type": "execute_result"
    }
   ],
   "source": [
    "anagram_checker(\"I am Lord Voldemort\", \"Tom Marvolo Riddle\")"
   ]
  },
  {
   "cell_type": "code",
   "execution_count": 23,
   "id": "da27b5f7",
   "metadata": {},
   "outputs": [
    {
     "data": {
      "text/plain": [
       "False"
      ]
     },
     "execution_count": 23,
     "metadata": {},
     "output_type": "execute_result"
    }
   ],
   "source": [
    "anagram_checker(\"I am Lord Voldemort\", \"Tom Marvolo Riddle\")"
   ]
  },
  {
   "cell_type": "code",
   "execution_count": 3,
   "id": "99e52b44",
   "metadata": {},
   "outputs": [],
   "source": [
    "class Stack:\n",
    "    def __init__(self):\n",
    "        self.items = []\n",
    "        \n",
    "    def push(self, element):\n",
    "        self.items.append(element)\n",
    "        \n",
    "    def pop(self):\n",
    "        return self.items.pop()\n",
    "        \n",
    "    def size(self):\n",
    "        return len(self.items)\n",
    "    \n",
    "    def peek(self):\n",
    "        return self.items[len(self.items-1)]\n",
    "    \n",
    "    def is_empty(self):\n",
    "        return self.items == []\n",
    "     "
   ]
  },
  {
   "cell_type": "markdown",
   "id": "86bfcfe7",
   "metadata": {},
   "source": [
    "# Problem 2\n",
    "### Use our stack class to invert a string.\n",
    "\n",
    "## Instructions\n",
    "Create a function called \"string_reverse\" that takes a string as a parameter and inverts it using our stack class.\n",
    "*your function must use our stack class!*\n",
    "\n",
    "Examples:\n",
    "```\n",
    "string_reverse(\"Rafael\") should return \"leafaR\"\n",
    "string_reverse(\"cars\") should return \"srac\"\n",
    "ect\n",
    "```"
   ]
  },
  {
   "cell_type": "code",
   "execution_count": 4,
   "id": "294c1de4",
   "metadata": {},
   "outputs": [],
   "source": [
    "def string_reverse(string):\n",
    "    inverted_string = \"\"\n",
    "    stack = Stack()\n",
    "    for letter in string:\n",
    "        stack.push(letter)\n",
    "    while not stack.is_empty():\n",
    "        inverted_string += stack.pop()\n",
    "    return inverted_string"
   ]
  },
  {
   "cell_type": "code",
   "execution_count": 5,
   "id": "3727527e",
   "metadata": {
    "scrolled": true
   },
   "outputs": [
    {
     "data": {
      "text/plain": [
       "'nairdlA'"
      ]
     },
     "execution_count": 5,
     "metadata": {},
     "output_type": "execute_result"
    }
   ],
   "source": [
    "string_reverse(\"Aldrian\")"
   ]
  },
  {
   "cell_type": "code",
   "execution_count": null,
   "id": "d55c32fd",
   "metadata": {},
   "outputs": [],
   "source": []
  }
 ],
 "metadata": {
  "kernelspec": {
   "display_name": "Python 3 (ipykernel)",
   "language": "python",
   "name": "python3"
  },
  "language_info": {
   "codemirror_mode": {
    "name": "ipython",
    "version": 3
   },
   "file_extension": ".py",
   "mimetype": "text/x-python",
   "name": "python",
   "nbconvert_exporter": "python",
   "pygments_lexer": "ipython3",
   "version": "3.8.10"
  }
 },
 "nbformat": 4,
 "nbformat_minor": 5
}
