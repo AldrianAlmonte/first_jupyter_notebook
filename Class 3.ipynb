{
 "cells": [
  {
   "cell_type": "markdown",
   "id": "33bb394a",
   "metadata": {},
   "source": [
    "# Balanced parentheses check\n",
    "\n",
    "### Given a string of opening and closing parentheses, check whether it is balnced.\n",
    "### There are 3 types of parentheses here: round(), square[], and curly brackets (bracces) {}\n",
    "\n",
    "_Assumptions_\n",
    "1. Assume the string doesn't contain any other character other than the ones mentioned above (no spaces, words, or numbers).\n",
    "2. Balanced parentheses require every parentheses to be closed in the reverse order opened.\n",
    "\n",
    "```\n",
    "Examples:\n",
    "balance_check(\"([{}])\") should return True\n",
    "balance_check(\"{{{}}]\") should return False\n",
    "\n",
    "Similarly:\n",
    "\"()()(){{{}}}\" is a balanced string\n",
    "\"()(){]((()))\" is not\n",
    "```\n",
    "\n",
    "#### Instructions\n",
    "Create a function called \"balance_check\" that takes a string as its parameter and returns True if it is balanced considering the criteria mentioned above; False otherwise."
   ]
  },
  {
   "cell_type": "code",
   "execution_count": 3,
   "id": "c9a342da",
   "metadata": {},
   "outputs": [],
   "source": [
    "def balance_check(str):\n",
    "    \n",
    "    if len(str) % 2 != 0:\n",
    "        return False\n",
    "   # opening = [\"(\", \"[\", \"{\"]\n",
    "    opening = set(\"([{\")\n",
    "    matching = set([\n",
    "        (\"(\", \")\"),\n",
    "        (\"[\", \"]\"),\n",
    "        (\"{\", \"}\")\n",
    "    ])\n",
    "    stack = []\n",
    "    for paren in str:\n",
    "        if paren in opening:\n",
    "            stack.append(paren)\n",
    "        else:\n",
    "            if stack == []:\n",
    "                return False\n",
    "            last_open = stack.pop()\n",
    "            if (last_open, paren) not in matches:\n",
    "                return False\n",
    "    return stack == []\n",
    "    "
   ]
  },
  {
   "cell_type": "code",
   "execution_count": 4,
   "id": "3c76e0dd",
   "metadata": {},
   "outputs": [
    {
     "data": {
      "text/plain": [
       "False"
      ]
     },
     "execution_count": 4,
     "metadata": {},
     "output_type": "execute_result"
    }
   ],
   "source": [
    "balance_check(\"((([{{{}}})))\")"
   ]
  },
  {
   "cell_type": "markdown",
   "id": "b06f3a38",
   "metadata": {},
   "source": [
    "# Given the stack below, implement a queue class using two stacks.\n",
    "\n",
    "```\n",
    "Note: this is a \"classic\" interview problem.\n",
    "\n",
    "You may use Python list data structure as your stack but it must behave like a stack at all times.\n",
    "```\n",
    "The goal is to create a queue which is FIFO by using two stacks which are LIFO."
   ]
  }
 ],
 "metadata": {
  "kernelspec": {
   "display_name": "Python 3 (ipykernel)",
   "language": "python",
   "name": "python3"
  },
  "language_info": {
   "codemirror_mode": {
    "name": "ipython",
    "version": 3
   },
   "file_extension": ".py",
   "mimetype": "text/x-python",
   "name": "python",
   "nbconvert_exporter": "python",
   "pygments_lexer": "ipython3",
   "version": "3.8.10"
  }
 },
 "nbformat": 4,
 "nbformat_minor": 5
}
