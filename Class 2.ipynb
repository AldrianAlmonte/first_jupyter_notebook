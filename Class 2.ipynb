{
 "cells": [
  {
   "cell_type": "code",
   "execution_count": 7,
   "id": "5c631bee",
   "metadata": {},
   "outputs": [],
   "source": [
    "class Node:\n",
    "    def __init__(self, data):\n",
    "        self.above = None\n",
    "        self.below = None\n",
    "        self.data = data\n",
    "        "
   ]
  },
  {
   "cell_type": "code",
   "execution_count": 28,
   "id": "18f9bf14",
   "metadata": {
    "scrolled": true
   },
   "outputs": [],
   "source": [
    "class Stack:\n",
    "    def __init__(self):\n",
    "        self.base = None\n",
    "        self.top = None\n",
    "        \n",
    "    def push(self, element):\n",
    "        if not self.base:\n",
    "            self.base = Node(element)\n",
    "            self.top = self.base\n",
    "        else:\n",
    "            topmost_item = self.top\n",
    "            new_node = Node(element)\n",
    "            topmost_item.above = new_node\n",
    "            new_node.below = topmost_item\n",
    "            self.top = new_node\n",
    "            \n",
    "    def pop(self):\n",
    "        if not self.base:\n",
    "            raise IndexErrot(\"Stack empty\")\n",
    "        if self.top == self.base:\n",
    "            value = self.base.data\n",
    "            self.top = None\n",
    "            self.base = None\n",
    "            return value\n",
    "        new_top = self.top.below\n",
    "        old_top = self.top\n",
    "        new_top.above = None\n",
    "        self.top = new_top\n",
    "        return old_top.data\n",
    "    \n",
    "    def size(self):\n",
    "        # should return the total amount of elements in our stack\n",
    "        # this should return an intenger that represents our stack's size\n",
    "        if not self.base:\n",
    "            return 0\n",
    "        counter = 1\n",
    "        current = self.base\n",
    "        while current.above: # shorthand for \"while current.above != None\"\n",
    "            counter += 1\n",
    "            current = current.above\n",
    "        return counter\n",
    "    \n",
    "    def is_empty(self):\n",
    "        # should return True if the stack is empty, False otherwise\n",
    "        if not self.base:\n",
    "            return True\n",
    "        return False\n",
    "    \n",
    "    def peek(self):\n",
    "        # should return \"data\" associated with the topmost Node wihtout removing said Node from our Stack\n",
    "        return self.top.data"
   ]
  },
  {
   "cell_type": "code",
   "execution_count": 29,
   "id": "e7668d61",
   "metadata": {},
   "outputs": [],
   "source": [
    "def reverse_string(mystring):\n",
    "    output_str = \"\"\n",
    "    stack = Stack()\n",
    "    for letter in mystring:\n",
    "        stack.push(letter)\n",
    "    for _ in range(len(mystring)):\n",
    "        output_str += stack.pop()\n",
    "    return output_str"
   ]
  },
  {
   "cell_type": "code",
   "execution_count": 30,
   "id": "331c92f6",
   "metadata": {},
   "outputs": [
    {
     "data": {
      "text/plain": [
       "'nairdlA'"
      ]
     },
     "execution_count": 30,
     "metadata": {},
     "output_type": "execute_result"
    }
   ],
   "source": [
    "reverse_string(\"Aldrian\")"
   ]
  },
  {
   "cell_type": "code",
   "execution_count": 33,
   "id": "c1095811",
   "metadata": {},
   "outputs": [],
   "source": [
    "stack = Stack()\n",
    "for i in range(10):\n",
    "    stack.push(i)\n",
    "\n",
    "assert stack.size() == 10"
   ]
  },
  {
   "cell_type": "code",
   "execution_count": 38,
   "id": "c45baa0e",
   "metadata": {},
   "outputs": [
    {
     "name": "stdout",
     "output_type": "stream",
     "text": [
      "5\n",
      "9801408\n",
      "9801376\n"
     ]
    }
   ],
   "source": [
    "# passing by value\n",
    "x = 5\n",
    "y =x \n",
    "\n",
    "x += 1\n",
    "\n",
    "print(y)\n",
    "print(id(x))\n",
    "print(id(y))"
   ]
  },
  {
   "cell_type": "code",
   "execution_count": 37,
   "id": "5b539270",
   "metadata": {},
   "outputs": [
    {
     "name": "stdout",
     "output_type": "stream",
     "text": [
      "[1, 2, 3, 4]\n",
      "139780115886464\n",
      "139780115886464\n"
     ]
    }
   ],
   "source": [
    "# passing by reference\n",
    "x = [1, 2, 3, 4, 5]\n",
    "\n",
    "y = x\n",
    "\n",
    "x.pop()\n",
    "\n",
    "print(y)\n",
    "print(id(x))\n",
    "print(id(y))"
   ]
  },
  {
   "cell_type": "code",
   "execution_count": 39,
   "id": "1d6a697b",
   "metadata": {},
   "outputs": [],
   "source": [
    "class Queue:\n",
    "    def __init__(self):\n",
    "        self.items = []\n",
    "        \n",
    "    def enqueue(self, element):\n",
    "        self.items.insert(0, element)\n",
    "        \n",
    "    def dequeue(self):\n",
    "        return self.items.pop()\n",
    "    \n",
    "    def size(self):\n",
    "        return len(self.items)\n",
    "    \n",
    "    def is_empty(self):\n",
    "        return self.items == []\n",
    "    \n",
    "    def peek(self):\n",
    "        return self.items[len(self.items)-1]"
   ]
  },
  {
   "cell_type": "code",
   "execution_count": 40,
   "id": "a63e9f33",
   "metadata": {},
   "outputs": [
    {
     "name": "stdout",
     "output_type": "stream",
     "text": [
      "Element: 0\n",
      "Element: 1\n",
      "Element: 2\n",
      "Element: 3\n",
      "Element: 4\n",
      "Element: 5\n",
      "Element: 6\n",
      "Element: 7\n",
      "Element: 8\n",
      "Element: 9\n"
     ]
    }
   ],
   "source": [
    "queue = Queue()\n",
    "\n",
    "for i in range(10):\n",
    "    queue.enqueue(i)\n",
    "    \n",
    "while not queue.is_empty():\n",
    "    print(\"Element: %s\" %queue.dequeue())"
   ]
  },
  {
   "cell_type": "code",
   "execution_count": 46,
   "id": "0f13595d",
   "metadata": {},
   "outputs": [],
   "source": [
    "# Implement a Queue class without using a Python list based on our approach with Satck.\n",
    "# Consider using a Node class for this as well."
   ]
  },
  {
   "cell_type": "code",
   "execution_count": 47,
   "id": "aa41ee11",
   "metadata": {},
   "outputs": [],
   "source": [
    "class QNode:\n",
    "    def __init__(self, data):\n",
    "        self.front = None\n",
    "        self.rear = None\n",
    "        self.data = data"
   ]
  },
  {
   "cell_type": "code",
   "execution_count": 45,
   "id": "479926e8",
   "metadata": {},
   "outputs": [],
   "source": [
    "class Queue:\n",
    "    def __init__(self):\n",
    "        self.next = None\n",
    "        self.last = None\n",
    "        \n",
    "    def enqueue(self, element):\n",
    "        new_node = QNode(element)\n",
    "        if not self.last:\n",
    "            self.last = new_node\n",
    "            self.next = self.last\n",
    "        else:\n",
    "            new_node.front = self.last\n",
    "            self.last.rear = new_node\n",
    "            self.last = new_node\n",
    "            \n",
    "    def dequeue(self):\n",
    "        if not self.front:\n",
    "            raise IndexError(\"Queue is empty\")\n",
    "        if self.front == self.rear:\n",
    "            "
   ]
  },
  {
   "cell_type": "code",
   "execution_count": null,
   "id": "a00a0e1c",
   "metadata": {},
   "outputs": [],
   "source": []
  }
 ],
 "metadata": {
  "kernelspec": {
   "display_name": "Python 3 (ipykernel)",
   "language": "python",
   "name": "python3"
  },
  "language_info": {
   "codemirror_mode": {
    "name": "ipython",
    "version": 3
   },
   "file_extension": ".py",
   "mimetype": "text/x-python",
   "name": "python",
   "nbconvert_exporter": "python",
   "pygments_lexer": "ipython3",
   "version": "3.8.10"
  }
 },
 "nbformat": 4,
 "nbformat_minor": 5
}
